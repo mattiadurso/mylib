{
 "cells": [
  {
   "cell_type": "code",
   "execution_count": 2,
   "id": "acc6ed50",
   "metadata": {},
   "outputs": [
    {
     "name": "stdout",
     "output_type": "stream",
     "text": [
      "MyLib version: 0.1.0\n",
      "✅ Basic import successful\n",
      "✅ All imports successful\n"
     ]
    }
   ],
   "source": [
    "# Test basic import\n",
    "import mylib\n",
    "print(f\"MyLib version: {mylib.__version__}\")\n",
    "print(\"✅ Basic import successful\")\n",
    "\n",
    "# Test submodule imports\n",
    "from mylib import geometry, conversions, plot\n",
    "print(\"✅ All imports successful\")"
   ]
  }
 ],
 "metadata": {
  "kernelspec": {
   "display_name": "keypoint_factory",
   "language": "python",
   "name": "python3"
  },
  "language_info": {
   "codemirror_mode": {
    "name": "ipython",
    "version": 3
   },
   "file_extension": ".py",
   "mimetype": "text/x-python",
   "name": "python",
   "nbconvert_exporter": "python",
   "pygments_lexer": "ipython3",
   "version": "3.10.16"
  }
 },
 "nbformat": 4,
 "nbformat_minor": 5
}
